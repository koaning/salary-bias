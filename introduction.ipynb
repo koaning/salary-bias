{
 "cells": [
  {
   "cell_type": "code",
   "execution_count": 1,
   "metadata": {},
   "outputs": [],
   "source": [
    "import logging \n",
    "import pandas as pd\n",
    "\n",
    "from pipeline import start_pipeline, set_types_names, filter_outliers, add_categorical_features, normalise_features\n",
    "logging.basicConfig(level=logging.DEBUG)"
   ]
  },
  {
   "cell_type": "markdown",
   "metadata": {},
   "source": [
    "In this notebook we'll do a basic introduction to the dataset. We'll demonstrate some code as well as some initial finding."
   ]
  },
  {
   "cell_type": "code",
   "execution_count": 2,
   "metadata": {},
   "outputs": [],
   "source": [
    "df = pd.read_csv(\"data/survey_results_public.csv\")"
   ]
  },
  {
   "cell_type": "markdown",
   "metadata": {},
   "source": [
    "## Processing \n",
    "\n",
    "We'll zoom in first just a subset of the data; the developers in the united states. This keeps things simple for now because we don't need to worry about differences in currencies. We'll also first look at the male-female gender bias. To keep this notebook clean we've moved the preprocessing code to a seperate python file called `pipeline.py`. We're using [pandas pipelines](https://tomaugspurger.github.io/method-chaining) to handle the gruntwork (if you're unfamiliar with this pattern you can find a tutorial [here](https://calmcode.io/pandas-pipe/introduction.html))."
   ]
  },
  {
   "cell_type": "code",
   "execution_count": 3,
   "metadata": {},
   "outputs": [
    {
     "name": "stderr",
     "output_type": "stream",
     "text": [
      "INFO:pipeline:[start_pipeline(df)] n_obs=88883 n_col=85 time=0:00:00.044320\n",
      "INFO:pipeline:[set_types_names(df)] n_obs=88883 n_col=9 time=0:00:00.008242\n",
      "INFO:pipeline:[filter_outliers(df)] n_obs=13166 n_col=9 time=0:00:00.004859\n",
      "/Users/vincent/Development/salary-bias/venv/lib/python3.6/site-packages/pandas/core/strings.py:1954: UserWarning: This pattern has match groups. To actually get the groups, use str.extract.\n",
      "  return func(self, *args, **kwargs)\n",
      "INFO:pipeline:[split_column(df, datacol = 'languageworkedwith')] n_obs=13166 n_col=38 time=0:00:00.414086\n",
      "INFO:pipeline:[split_column(df, datacol = 'devtype', prefix = 'devtype')] n_obs=13166 n_col=63 time=0:00:00.341635\n",
      "INFO:pipeline:[split_column(df, datacol = 'ethnicity', prefix = 'ethnicity')] n_obs=13166 n_col=73 time=0:00:00.171998\n",
      "INFO:pipeline:[add_categorical_features(df)] n_obs=13166 n_col=70 time=0:00:00.955004\n",
      "INFO:pipeline:[normalise_features(df)] n_obs=13166 n_col=70 time=0:00:00.027270\n"
     ]
    }
   ],
   "source": [
    "clean_df = (df\n",
    " .pipe(start_pipeline)\n",
    " .pipe(set_types_names)\n",
    " .loc[lambda d: d['country'] == 'United States']\n",
    " .pipe(filter_outliers)\n",
    " .pipe(add_categorical_features)\n",
    " .pipe(normalise_features))"
   ]
  },
  {
   "cell_type": "markdown",
   "metadata": {},
   "source": [
    "Given that we now have a clean dataset, let's do a primaryy check. Can we measure a difference in salary without compensating for skillset, age or experience?"
   ]
  },
  {
   "cell_type": "code",
   "execution_count": 6,
   "metadata": {},
   "outputs": [
    {
     "data": {
      "image/png": "[encoded data removed]",
      "text/plain": [
       "<Figure size 432x288 with 1 Axes>"
      ]
     },
     "metadata": {
      "needs_background": "light"
     },
     "output_type": "display_data"
    }
   ],
   "source": [
    "import matplotlib.pylab as plt\n",
    "\n",
    "male_salary = clean_df.loc[lambda d: d['gender'] == 'Man']['convertedcomp']\n",
    "female_salary = clean_df.loc[lambda d: d['gender'] == 'Woman']['convertedcomp']\n",
    "\n",
    "plt.hist(male_salary, bins=30, density=True, alpha=0.5, label=\"male\")\n",
    "plt.hist(female_salary, bins=30, density=True, alpha=0.5, label=\"female\")\n",
    "plt.legend();"
   ]
  },
  {
   "cell_type": "code",
   "execution_count": 7,
   "metadata": {},
   "outputs": [
    {
     "data": {
      "text/html": [
       "<div>\n",
       "<style scoped>\n",
       "    .dataframe tbody tr th:only-of-type {\n",
       "        vertical-align: middle;\n",
       "    }\n",
       "\n",
       "    .dataframe tbody tr th {\n",
       "        vertical-align: top;\n",
       "    }\n",
       "\n",
       "    .dataframe thead th {\n",
       "        text-align: right;\n",
       "    }\n",
       "</style>\n",
       "<table border=\"1\" class=\"dataframe\">\n",
       "  <thead>\n",
       "    <tr style=\"text-align: right;\">\n",
       "      <th></th>\n",
       "      <th>salary</th>\n",
       "      <th>n</th>\n",
       "    </tr>\n",
       "    <tr>\n",
       "      <th>gender</th>\n",
       "      <th></th>\n",
       "      <th></th>\n",
       "    </tr>\n",
       "  </thead>\n",
       "  <tbody>\n",
       "    <tr>\n",
       "      <th>Man</th>\n",
       "      <td>113143.699224</td>\n",
       "      <td>11344</td>\n",
       "    </tr>\n",
       "    <tr>\n",
       "      <th>Non-Binary</th>\n",
       "      <td>109210.627329</td>\n",
       "      <td>483</td>\n",
       "    </tr>\n",
       "    <tr>\n",
       "      <th>Woman</th>\n",
       "      <td>100506.286781</td>\n",
       "      <td>1339</td>\n",
       "    </tr>\n",
       "  </tbody>\n",
       "</table>\n",
       "</div>"
      ],
      "text/plain": [
       "                   salary      n\n",
       "gender                          \n",
       "Man         113143.699224  11344\n",
       "Non-Binary  109210.627329    483\n",
       "Woman       100506.286781   1339"
      ]
     },
     "execution_count": 7,
     "metadata": {},
     "output_type": "execute_result"
    }
   ],
   "source": [
    "clean_df.groupby('gender').agg(salary = ('convertedcomp', 'mean'), n = ('convertedcomp', 'size'))"
   ]
  },
  {
   "cell_type": "markdown",
   "metadata": {},
   "source": [
    "Just looking at this table as well as the graph we should notice a few things; \n",
    "\n",
    "1. There is most certainly a difference in salary. Women seem to earn 88% of what men earn. \n",
    "2. Women (as well as Non-Binary) are less less frequent in the dataset. This is something to keep in mind with our analyses later on. Bias is one theme but so is imbalance.\n",
    "3. We're not correcting for anything yet. It may be that we women in our dataset are, in general, younger and this might explain part of the bias. We should correct for variables like age to get a more precise bias-measurement."
   ]
  }
 ],
 "metadata": {
  "kernelspec": {
   "display_name": "Python 3",
   "language": "python",
   "name": "python3"
  },
  "language_info": {
   "codemirror_mode": {
    "name": "ipython",
    "version": 3
   },
   "file_extension": ".py",
   "mimetype": "text/x-python",
   "name": "python",
   "nbconvert_exporter": "python",
   "pygments_lexer": "ipython3",
   "version": "3.6.8"
  }
 },
 "nbformat": 4,
 "nbformat_minor": 4
}
